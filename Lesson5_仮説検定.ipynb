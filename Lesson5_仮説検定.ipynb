{
  "nbformat": 4,
  "nbformat_minor": 0,
  "metadata": {
    "colab": {
      "name": "Lesson5_仮説検定.ipynb",
      "provenance": [],
      "toc_visible": true,
      "mount_file_id": "15rZnERe7KXwXklGZaeuMv6nqtIB0mRp_",
      "authorship_tag": "ABX9TyOXn2J1ZWmEJJUAeBlQv2ff",
      "include_colab_link": true
    },
    "kernelspec": {
      "name": "python3",
      "display_name": "Python 3"
    }
  },
  "cells": [
    {
      "cell_type": "markdown",
      "metadata": {
        "id": "view-in-github",
        "colab_type": "text"
      },
      "source": [
        "<a href=\"https://colab.research.google.com/github/kei-kobayashi-3/test-of-hypothesis/blob/main/Lesson5_%E4%BB%AE%E8%AA%AC%E6%A4%9C%E5%AE%9A.ipynb\" target=\"_parent\"><img src=\"https://colab.research.google.com/assets/colab-badge.svg\" alt=\"Open In Colab\"/></a>"
      ]
    },
    {
      "cell_type": "code",
      "metadata": {
        "id": "DBf45QoPJfoq"
      },
      "source": [
        "cd /./"
      ],
      "execution_count": null,
      "outputs": []
    },
    {
      "cell_type": "code",
      "metadata": {
        "colab": {
          "base_uri": "https://localhost:8080/"
        },
        "id": "Kc83KMCcMGzX",
        "outputId": "51ca0d76-b614-4eb6-cb4f-fcdf70aa4d46"
      },
      "source": [
        "ls -a"
      ],
      "execution_count": null,
      "outputs": [
        {
          "output_type": "stream",
          "text": [
            "\u001b[0m\u001b[01;34m.\u001b[0m/     \u001b[01;34mcontent\u001b[0m/     \u001b[01;34metc\u001b[0m/    \u001b[01;34mlib64\u001b[0m/  \u001b[01;34mproc\u001b[0m/  \u001b[01;34msrv\u001b[0m/                \u001b[30;42mtmp\u001b[0m/\n",
            "\u001b[01;34m..\u001b[0m/    \u001b[01;34mdatalab\u001b[0m/     \u001b[01;34mhome\u001b[0m/   \u001b[01;34mmedia\u001b[0m/  \u001b[01;34mroot\u001b[0m/  \u001b[01;34mswift\u001b[0m/              \u001b[01;34mtools\u001b[0m/\n",
            "\u001b[01;34mbin\u001b[0m/   \u001b[01;34mdev\u001b[0m/         \u001b[01;34mlib\u001b[0m/    \u001b[01;34mmnt\u001b[0m/    \u001b[01;34mrun\u001b[0m/   \u001b[01;34msys\u001b[0m/                \u001b[01;34musr\u001b[0m/\n",
            "\u001b[01;34mboot\u001b[0m/  \u001b[01;32m.dockerenv\u001b[0m*  \u001b[01;34mlib32\u001b[0m/  \u001b[01;34mopt\u001b[0m/    \u001b[01;34msbin\u001b[0m/  \u001b[01;34mtensorflow-1.15.2\u001b[0m/  \u001b[01;34mvar\u001b[0m/\n"
          ],
          "name": "stdout"
        }
      ]
    },
    {
      "cell_type": "code",
      "metadata": {
        "colab": {
          "base_uri": "https://localhost:8080/"
        },
        "id": "pnx71feHMHDk",
        "outputId": "3e320c7f-f571-40fd-b01d-d906b9ad0e0f"
      },
      "source": [
        "cd /content/drive/MyDrive/Colab Notebooks/"
      ],
      "execution_count": null,
      "outputs": [
        {
          "output_type": "stream",
          "text": [
            "/content/drive/MyDrive/Colab Notebooks\n"
          ],
          "name": "stdout"
        }
      ]
    },
    {
      "cell_type": "code",
      "metadata": {
        "id": "Gfy_--aMK66o"
      },
      "source": [
        "import numpy as np\n",
        "import pandas as pd\n",
        "from scipy import stats\n",
        "import matplotlib as mpl\n",
        "import matplotlib.pyplot as plt\n",
        "import seaborn as sns\n",
        "sns.set()\n",
        "%matplotlib inline"
      ],
      "execution_count": null,
      "outputs": []
    },
    {
      "cell_type": "code",
      "metadata": {
        "id": "jh66Na2DLtmV"
      },
      "source": [
        "data1=pd.read_csv('Lesson5-1.csv')"
      ],
      "execution_count": null,
      "outputs": []
    },
    {
      "cell_type": "code",
      "metadata": {
        "colab": {
          "base_uri": "https://localhost:8080/",
          "height": 910
        },
        "id": "XN2eVv6iL9PB",
        "outputId": "b90c7270-e1c4-4af6-83f8-cdd0995a0126"
      },
      "source": [
        "data1"
      ],
      "execution_count": null,
      "outputs": [
        {
          "output_type": "execute_result",
          "data": {
            "text/html": [
              "<div>\n",
              "<style scoped>\n",
              "    .dataframe tbody tr th:only-of-type {\n",
              "        vertical-align: middle;\n",
              "    }\n",
              "\n",
              "    .dataframe tbody tr th {\n",
              "        vertical-align: top;\n",
              "    }\n",
              "\n",
              "    .dataframe thead th {\n",
              "        text-align: right;\n",
              "    }\n",
              "</style>\n",
              "<table border=\"1\" class=\"dataframe\">\n",
              "  <thead>\n",
              "    <tr style=\"text-align: right;\">\n",
              "      <th></th>\n",
              "      <th>Length</th>\n",
              "    </tr>\n",
              "  </thead>\n",
              "  <tbody>\n",
              "    <tr>\n",
              "      <th>0</th>\n",
              "      <td>56.873036</td>\n",
              "    </tr>\n",
              "    <tr>\n",
              "      <th>1</th>\n",
              "      <td>50.164731</td>\n",
              "    </tr>\n",
              "    <tr>\n",
              "      <th>2</th>\n",
              "      <td>50.415485</td>\n",
              "    </tr>\n",
              "    <tr>\n",
              "      <th>3</th>\n",
              "      <td>48.781094</td>\n",
              "    </tr>\n",
              "    <tr>\n",
              "      <th>4</th>\n",
              "      <td>54.596223</td>\n",
              "    </tr>\n",
              "    <tr>\n",
              "      <th>5</th>\n",
              "      <td>45.095384</td>\n",
              "    </tr>\n",
              "    <tr>\n",
              "      <th>6</th>\n",
              "      <td>57.234435</td>\n",
              "    </tr>\n",
              "    <tr>\n",
              "      <th>7</th>\n",
              "      <td>49.716379</td>\n",
              "    </tr>\n",
              "    <tr>\n",
              "      <th>8</th>\n",
              "      <td>52.957117</td>\n",
              "    </tr>\n",
              "    <tr>\n",
              "      <th>9</th>\n",
              "      <td>51.251889</td>\n",
              "    </tr>\n",
              "    <tr>\n",
              "      <th>10</th>\n",
              "      <td>56.386324</td>\n",
              "    </tr>\n",
              "    <tr>\n",
              "      <th>11</th>\n",
              "      <td>45.819578</td>\n",
              "    </tr>\n",
              "    <tr>\n",
              "      <th>12</th>\n",
              "      <td>51.032748</td>\n",
              "    </tr>\n",
              "    <tr>\n",
              "      <th>13</th>\n",
              "      <td>50.847837</td>\n",
              "    </tr>\n",
              "    <tr>\n",
              "      <th>14</th>\n",
              "      <td>55.401308</td>\n",
              "    </tr>\n",
              "    <tr>\n",
              "      <th>15</th>\n",
              "      <td>48.700326</td>\n",
              "    </tr>\n",
              "    <tr>\n",
              "      <th>16</th>\n",
              "      <td>51.482715</td>\n",
              "    </tr>\n",
              "    <tr>\n",
              "      <th>17</th>\n",
              "      <td>49.366425</td>\n",
              "    </tr>\n",
              "    <tr>\n",
              "      <th>18</th>\n",
              "      <td>52.126641</td>\n",
              "    </tr>\n",
              "    <tr>\n",
              "      <th>19</th>\n",
              "      <td>53.748446</td>\n",
              "    </tr>\n",
              "    <tr>\n",
              "      <th>20</th>\n",
              "      <td>48.698142</td>\n",
              "    </tr>\n",
              "    <tr>\n",
              "      <th>21</th>\n",
              "      <td>55.434171</td>\n",
              "    </tr>\n",
              "    <tr>\n",
              "      <th>22</th>\n",
              "      <td>54.704772</td>\n",
              "    </tr>\n",
              "    <tr>\n",
              "      <th>23</th>\n",
              "      <td>53.507483</td>\n",
              "    </tr>\n",
              "    <tr>\n",
              "      <th>24</th>\n",
              "      <td>54.702568</td>\n",
              "    </tr>\n",
              "    <tr>\n",
              "      <th>25</th>\n",
              "      <td>49.948816</td>\n",
              "    </tr>\n",
              "    <tr>\n",
              "      <th>26</th>\n",
              "      <td>51.631329</td>\n",
              "    </tr>\n",
              "    <tr>\n",
              "      <th>27</th>\n",
              "      <td>49.192692</td>\n",
              "    </tr>\n",
              "    <tr>\n",
              "      <th>28</th>\n",
              "      <td>51.196336</td>\n",
              "    </tr>\n",
              "    <tr>\n",
              "      <th>29</th>\n",
              "      <td>53.591066</td>\n",
              "    </tr>\n",
              "  </tbody>\n",
              "</table>\n",
              "</div>"
            ],
            "text/plain": [
              "       Length\n",
              "0   56.873036\n",
              "1   50.164731\n",
              "2   50.415485\n",
              "3   48.781094\n",
              "4   54.596223\n",
              "5   45.095384\n",
              "6   57.234435\n",
              "7   49.716379\n",
              "8   52.957117\n",
              "9   51.251889\n",
              "10  56.386324\n",
              "11  45.819578\n",
              "12  51.032748\n",
              "13  50.847837\n",
              "14  55.401308\n",
              "15  48.700326\n",
              "16  51.482715\n",
              "17  49.366425\n",
              "18  52.126641\n",
              "19  53.748446\n",
              "20  48.698142\n",
              "21  55.434171\n",
              "22  54.704772\n",
              "23  53.507483\n",
              "24  54.702568\n",
              "25  49.948816\n",
              "26  51.631329\n",
              "27  49.192692\n",
              "28  51.196336\n",
              "29  53.591066"
            ]
          },
          "metadata": {
            "tags": []
          },
          "execution_count": 63
        }
      ]
    },
    {
      "cell_type": "code",
      "metadata": {
        "id": "V5ZqfwR-M2xZ"
      },
      "source": [
        "# 標本平均"
      ],
      "execution_count": null,
      "outputs": []
    },
    {
      "cell_type": "code",
      "metadata": {
        "colab": {
          "base_uri": "https://localhost:8080/"
        },
        "id": "EvMhwjWtNHij",
        "outputId": "5210d673-0851-4af9-eb1e-791ddae5e83d"
      },
      "source": [
        "mu=np.mean(data1)\n",
        "mu"
      ],
      "execution_count": null,
      "outputs": [
        {
          "output_type": "execute_result",
          "data": {
            "text/plain": [
              "Length    51.820183\n",
              "dtype: float64"
            ]
          },
          "metadata": {
            "tags": []
          },
          "execution_count": 65
        }
      ]
    },
    {
      "cell_type": "code",
      "metadata": {
        "id": "SyoLuRMaNLFU"
      },
      "source": [
        "#　自由度"
      ],
      "execution_count": null,
      "outputs": []
    },
    {
      "cell_type": "code",
      "metadata": {
        "colab": {
          "base_uri": "https://localhost:8080/"
        },
        "id": "9kzYLBFHNUN-",
        "outputId": "9cbfb585-5dac-49f9-f453-e76ceec5269f"
      },
      "source": [
        "df=len(data1)-1\n",
        "df"
      ],
      "execution_count": null,
      "outputs": [
        {
          "output_type": "execute_result",
          "data": {
            "text/plain": [
              "29"
            ]
          },
          "metadata": {
            "tags": []
          },
          "execution_count": 67
        }
      ]
    },
    {
      "cell_type": "code",
      "metadata": {
        "id": "OamU0PUtNYnR"
      },
      "source": [
        "# 標準誤差の計算"
      ],
      "execution_count": null,
      "outputs": []
    },
    {
      "cell_type": "code",
      "metadata": {
        "colab": {
          "base_uri": "https://localhost:8080/"
        },
        "id": "FsEnYu87NgNT",
        "outputId": "b5b443ed-c1fa-460c-b35a-83d5c9d85748"
      },
      "source": [
        "sigma=np.std(data1,ddof=1)\n",
        "sigma"
      ],
      "execution_count": null,
      "outputs": [
        {
          "output_type": "execute_result",
          "data": {
            "text/plain": [
              "Length    3.079095\n",
              "dtype: float64"
            ]
          },
          "metadata": {
            "tags": []
          },
          "execution_count": 69
        }
      ]
    },
    {
      "cell_type": "code",
      "metadata": {
        "colab": {
          "base_uri": "https://localhost:8080/"
        },
        "id": "ZwZdymp5NrLE",
        "outputId": "80638834-b84b-4a84-e34a-ede8ad4a6655"
      },
      "source": [
        "se=sigma/np.sqrt(len(data1))\n",
        "se"
      ],
      "execution_count": null,
      "outputs": [
        {
          "output_type": "execute_result",
          "data": {
            "text/plain": [
              "Length    0.562163\n",
              "dtype: float64"
            ]
          },
          "metadata": {
            "tags": []
          },
          "execution_count": 70
        }
      ]
    },
    {
      "cell_type": "markdown",
      "metadata": {
        "id": "_Y9sa53uO92d"
      },
      "source": [
        "この情報を元に「池の魚平均体長は50cmと等しいか」について調べてみましょう。\n",
        "両側検定になりますね。有意水準は5％とします。帰無仮説・対立仮説は以下の通りです。\n",
        "\n",
        "*  帰無仮説（H0）: 池の中の魚の平均体長は50cmである\n",
        "*  対立仮説（H1）: 池の中の魚の平均体長は50cmとは異なる"
      ]
    },
    {
      "cell_type": "code",
      "metadata": {
        "id": "LUrZmIQvN83r"
      },
      "source": [
        "# t値の計算"
      ],
      "execution_count": null,
      "outputs": []
    },
    {
      "cell_type": "code",
      "metadata": {
        "colab": {
          "base_uri": "https://localhost:8080/"
        },
        "id": "GL1lqxFNPMXe",
        "outputId": "53cacd5a-a2f7-4d59-a4e6-50df14bab65b"
      },
      "source": [
        "t_value=(mu-50)/se\n",
        "t_value"
      ],
      "execution_count": null,
      "outputs": [
        {
          "output_type": "execute_result",
          "data": {
            "text/plain": [
              "Length    3.237819\n",
              "dtype: float64"
            ]
          },
          "metadata": {
            "tags": []
          },
          "execution_count": 72
        }
      ]
    },
    {
      "cell_type": "code",
      "metadata": {
        "id": "vLUSsWtJOdSY"
      },
      "source": [
        "# p値の計算  def cdf(x, *args, **kwds)Cumulative distribution function of the given RV."
      ],
      "execution_count": null,
      "outputs": []
    },
    {
      "cell_type": "code",
      "metadata": {
        "colab": {
          "base_uri": "https://localhost:8080/"
        },
        "id": "6Wt2NTmgPmg2",
        "outputId": "9531fce3-8819-4a9d-d63b-ff96f77e6a69"
      },
      "source": [
        "alpha=stats.t.cdf(np.abs(t_value),df=df) #上側部分\n",
        "alpha"
      ],
      "execution_count": null,
      "outputs": [
        {
          "output_type": "execute_result",
          "data": {
            "text/plain": [
              "array([0.99849387])"
            ]
          },
          "metadata": {
            "tags": []
          },
          "execution_count": 74
        }
      ]
    },
    {
      "cell_type": "code",
      "metadata": {
        "colab": {
          "base_uri": "https://localhost:8080/"
        },
        "id": "6oHPnuwlQlIK",
        "outputId": "879b0933-a0ec-49da-e06f-a3c411d1c937"
      },
      "source": [
        "(1-alpha)*2  # alphaより大きい部分の確率　の上側下側その確率 p値 "
      ],
      "execution_count": null,
      "outputs": [
        {
          "output_type": "execute_result",
          "data": {
            "text/plain": [
              "array([0.00301227])"
            ]
          },
          "metadata": {
            "tags": []
          },
          "execution_count": 75
        }
      ]
    },
    {
      "cell_type": "markdown",
      "metadata": {
        "id": "vdXYVuKcRbrb"
      },
      "source": [
        "p値が0.05を下回っているので、”有意差あり”とみなすことができます。よって、「池の魚の平均体長は50cmと有意に異なる」と判断できます。"
      ]
    },
    {
      "cell_type": "code",
      "metadata": {
        "id": "vxUHf_QyRdBy"
      },
      "source": [
        "# 以上の計算はstats.ttest_1samp関数を用いると下記のように実行できます t_value, p_value"
      ],
      "execution_count": null,
      "outputs": []
    },
    {
      "cell_type": "code",
      "metadata": {
        "colab": {
          "base_uri": "https://localhost:8080/"
        },
        "id": "EMOu388LTO3b",
        "outputId": "adc166a9-84af-4807-e3c4-ca5f61568f7b"
      },
      "source": [
        "t=stats.ttest_1samp(data1,50)\n",
        "t"
      ],
      "execution_count": null,
      "outputs": [
        {
          "output_type": "execute_result",
          "data": {
            "text/plain": [
              "Ttest_1sampResult(statistic=array([3.23781919]), pvalue=array([0.00301227]))"
            ]
          },
          "metadata": {
            "tags": []
          },
          "execution_count": 77
        }
      ]
    },
    {
      "cell_type": "code",
      "metadata": {
        "id": "TkFxtjDpTe2I"
      },
      "source": [
        ""
      ],
      "execution_count": null,
      "outputs": []
    },
    {
      "cell_type": "markdown",
      "metadata": {
        "id": "fypmioF8bi8t"
      },
      "source": [
        "「池の魚の平均体長は50cmより大きい」かどうかを調べてみましょう。こちらも有意差5％とします。今度は片側検定を実行することになります。仮説は以下の通りです。\n",
        "\n",
        "*  帰無仮説（H0）: 池の中の魚の平均体長は50cmである\n",
        "*  対立仮説（H1）: 池の中の魚の平均体長は50cmより大きい\n"
      ]
    },
    {
      "cell_type": "code",
      "metadata": {
        "id": "wxyxrolXbnU5"
      },
      "source": [
        "# t値を求める"
      ],
      "execution_count": null,
      "outputs": []
    },
    {
      "cell_type": "code",
      "metadata": {
        "colab": {
          "base_uri": "https://localhost:8080/"
        },
        "id": "sG8O0hmkb7JR",
        "outputId": "25453e95-1624-4047-d302-d4e11784f686"
      },
      "source": [
        "t_value=((mu-50)/np.std(data1,ddof=1))*np.sqrt(len(data1))\n",
        "t_value"
      ],
      "execution_count": null,
      "outputs": [
        {
          "output_type": "execute_result",
          "data": {
            "text/plain": [
              "Length    3.237819\n",
              "dtype: float64"
            ]
          },
          "metadata": {
            "tags": []
          },
          "execution_count": 79
        }
      ]
    },
    {
      "cell_type": "code",
      "metadata": {
        "id": "6a2RsV8kcZuz"
      },
      "source": [
        "# p値を求める"
      ],
      "execution_count": null,
      "outputs": []
    },
    {
      "cell_type": "code",
      "metadata": {
        "colab": {
          "base_uri": "https://localhost:8080/"
        },
        "id": "untj3xbzcwKV",
        "outputId": "f836d88c-2382-471a-a9ac-15b1b82e811b"
      },
      "source": [
        "alpha=stats.t.cdf(t_value,df=df)\n",
        "alpha"
      ],
      "execution_count": null,
      "outputs": [
        {
          "output_type": "execute_result",
          "data": {
            "text/plain": [
              "array([0.99849387])"
            ]
          },
          "metadata": {
            "tags": []
          },
          "execution_count": 81
        }
      ]
    },
    {
      "cell_type": "code",
      "metadata": {
        "colab": {
          "base_uri": "https://localhost:8080/"
        },
        "id": "FKbq2LaEdD5l",
        "outputId": "46fbc10e-4a90-4ae5-e4c7-34883c9db004"
      },
      "source": [
        "1-alpha"
      ],
      "execution_count": null,
      "outputs": [
        {
          "output_type": "execute_result",
          "data": {
            "text/plain": [
              "array([0.00150613])"
            ]
          },
          "metadata": {
            "tags": []
          },
          "execution_count": 82
        }
      ]
    },
    {
      "cell_type": "code",
      "metadata": {
        "colab": {
          "base_uri": "https://localhost:8080/"
        },
        "id": "8D-PNoTgm6Jy",
        "outputId": "b3170d68-b237-49dd-a97a-e63d52cc0900"
      },
      "source": [
        "stats.ttest_1samp(data1,50)"
      ],
      "execution_count": null,
      "outputs": [
        {
          "output_type": "execute_result",
          "data": {
            "text/plain": [
              "Ttest_1sampResult(statistic=array([3.23781919]), pvalue=array([0.00301227]))"
            ]
          },
          "metadata": {
            "tags": []
          },
          "execution_count": 83
        }
      ]
    },
    {
      "cell_type": "code",
      "metadata": {
        "id": "oj8N9VVJdMGy"
      },
      "source": [
        "# こちらもp値が0.05を下回っているので”有意差あり”とみなすことができます。よって、「池の魚の平均体長は50cmより有意に大きい」と判断できます。"
      ],
      "execution_count": null,
      "outputs": []
    },
    {
      "cell_type": "code",
      "metadata": {
        "id": "gwL_cY8ykeew"
      },
      "source": [
        ""
      ],
      "execution_count": null,
      "outputs": []
    },
    {
      "cell_type": "markdown",
      "metadata": {
        "id": "ag3BhPUJHEhs"
      },
      "source": [
        "2変量データのt検定\n",
        "\n",
        "今までは1つの池の中の魚の体長といった「1変量のデータ」について考えてきました。次は、「飼料Aで育った養殖魚と飼料Bで育った養殖魚の体長」「2歳魚と3歳魚の体長」といった2変数の間で平均値に差があるか否かについて考えてみましょう"
      ]
    },
    {
      "cell_type": "code",
      "metadata": {
        "id": "pRhaDGPvHIVF"
      },
      "source": [
        "data2=pd.read_csv('Lesson5-2.csv')"
      ],
      "execution_count": null,
      "outputs": []
    },
    {
      "cell_type": "code",
      "metadata": {
        "colab": {
          "base_uri": "https://localhost:8080/",
          "height": 133
        },
        "id": "xhouaJQZJjkt",
        "outputId": "897e9831-c663-4006-85a6-d687b8f8be0f"
      },
      "source": [
        "data2.head(3)"
      ],
      "execution_count": null,
      "outputs": [
        {
          "output_type": "execute_result",
          "data": {
            "text/html": [
              "<div>\n",
              "<style scoped>\n",
              "    .dataframe tbody tr th:only-of-type {\n",
              "        vertical-align: middle;\n",
              "    }\n",
              "\n",
              "    .dataframe tbody tr th {\n",
              "        vertical-align: top;\n",
              "    }\n",
              "\n",
              "    .dataframe thead th {\n",
              "        text-align: right;\n",
              "    }\n",
              "</style>\n",
              "<table border=\"1\" class=\"dataframe\">\n",
              "  <thead>\n",
              "    <tr style=\"text-align: right;\">\n",
              "      <th></th>\n",
              "      <th>2-years-old</th>\n",
              "      <th>3-years-old</th>\n",
              "    </tr>\n",
              "  </thead>\n",
              "  <tbody>\n",
              "    <tr>\n",
              "      <th>0</th>\n",
              "      <td>16.624345</td>\n",
              "      <td>14.600841</td>\n",
              "    </tr>\n",
              "    <tr>\n",
              "      <th>1</th>\n",
              "      <td>14.388244</td>\n",
              "      <td>14.984220</td>\n",
              "    </tr>\n",
              "    <tr>\n",
              "      <th>2</th>\n",
              "      <td>14.471828</td>\n",
              "      <td>14.606675</td>\n",
              "    </tr>\n",
              "  </tbody>\n",
              "</table>\n",
              "</div>"
            ],
            "text/plain": [
              "   2-years-old  3-years-old\n",
              "0    16.624345    14.600841\n",
              "1    14.388244    14.984220\n",
              "2    14.471828    14.606675"
            ]
          },
          "metadata": {
            "tags": []
          },
          "execution_count": 88
        }
      ]
    },
    {
      "cell_type": "code",
      "metadata": {
        "id": "eal9YDGfJnc2"
      },
      "source": [
        "data2['difference']=data2['3-years-old']-data2['2-years-old']"
      ],
      "execution_count": null,
      "outputs": []
    },
    {
      "cell_type": "code",
      "metadata": {
        "id": "MxbYSVhQKecn"
      },
      "source": [
        ""
      ],
      "execution_count": null,
      "outputs": []
    },
    {
      "cell_type": "markdown",
      "metadata": {
        "id": "ZmQXFkM5K9Fg"
      },
      "source": [
        "もし魚が年齢を重ねることが体長に何の影響も与えないのであれば、この差は0になるはずです。逆に言えば、差の平均値が0と異なれば、2歳魚と3歳魚で体長が異なると判断できるわけです。よって、対応のあるt検定では「差が0と異なるか」という1変数のt検定を行うことになります。\n",
        "\n",
        "帰無仮説と対立仮説について確認しましょう。対応のあるt検定では下記の仮説を立てることになりますが、これは括弧書きのように解釈できるという意味です。\n",
        "\n",
        "*  帰無仮説（H0）: 2歳魚と3歳魚で体長は変わらない（2歳魚と3歳魚の体長の差は0）\n",
        "*  対立仮説（H1）: 2歳魚と3歳魚で体長は異なる（2歳魚と3歳魚の体長の差は0ではない）\n",
        "\n"
      ]
    },
    {
      "cell_type": "code",
      "metadata": {
        "id": "OxUXyc1FM6Jg"
      },
      "source": [
        "# t検定 　def ttest_1samp(a, popmean, axis=0, nan_policy='propagate')  popmean:帰無仮説の平均"
      ],
      "execution_count": null,
      "outputs": []
    },
    {
      "cell_type": "code",
      "metadata": {
        "colab": {
          "base_uri": "https://localhost:8080/"
        },
        "id": "K0ps7XENKxv6",
        "outputId": "e14557bc-85e2-4e33-aece-2a3629927505"
      },
      "source": [
        "stats.ttest_1samp(data2['difference'],0)"
      ],
      "execution_count": null,
      "outputs": [
        {
          "output_type": "execute_result",
          "data": {
            "text/plain": [
              "Ttest_1sampResult(statistic=2.212896760339997, pvalue=0.03493196300425262)"
            ]
          },
          "metadata": {
            "tags": []
          },
          "execution_count": 98
        }
      ]
    },
    {
      "cell_type": "code",
      "metadata": {
        "id": "RCYIoLpRNLw6"
      },
      "source": [
        "# p値が0.05を下回りましたので、「2歳魚と3歳魚の体長は有意に異なる」と判断できました。"
      ],
      "execution_count": null,
      "outputs": []
    },
    {
      "cell_type": "code",
      "metadata": {
        "id": "5Eil_TEfNNap"
      },
      "source": [
        ""
      ],
      "execution_count": null,
      "outputs": []
    },
    {
      "cell_type": "markdown",
      "metadata": {
        "id": "OFB6WPJ1NdvX"
      },
      "source": [
        "対応のないt検定\n",
        "対応のあるt検定では、それぞれの個体について2歳時点と3歳時点の2回計測を行った結果について解析しました。それでは、このデータが「2歳魚を集めたデータ」と「3歳魚を集めたデータ」ではあるものの同じ個体の2歳時と3歳時の体長を測定したものではないとするとどうなるでしょうか。今度は、「平均値の差」について注目する必要があります。\n",
        "\n",
        "平均値の差に基づいてt値を計算する場合、少し計算式が複雑になります。2歳魚の体長をX、3歳魚の体長をYとすると下記のように計算できます。\n",
        "*  $\\hat\\mu_x $ : Xの標本平均\n",
        "*  $\\hat\\mu_y$ : Yの標本平均\n",
        "*  $m$ : Xのサンプル数\n",
        "*  $n$ : Yのサンプル数\n",
        "*  $\\hat\\sigma_x^2$ : Xの不偏分散\n",
        "*  $\\hat\\sigma_y^2$ : Yの不偏分散\n",
        "\n",
        "\n",
        "\n",
        "\\begin{eqnarray}\n",
        "  t=\\frac{\\hat\\mu_x-\\hat\\mu_y}{\\sqrt{\\frac{\\hat\\sigma_x^2}{m}+\\frac{\\hat\\sigma_y^2}{n}}}  \\\\\\\\\n",
        "  自由度:f=\\frac{(\\frac{\\hat\\sigma_x^2}{m}+\\frac{\\hat\\sigma_y^2}{n})^2}{\\frac{\\frac{\\hat\\sigma_x^2}{m}}{m-1}+\\frac{\\frac{\\hat\\sigma_y^2}{n}}{n-1}}\n",
        "\\end{eqnarray}"
      ]
    },
    {
      "cell_type": "code",
      "metadata": {
        "id": "s8LmKR7GR39g"
      },
      "source": [
        "# 対応のないt検定はstats.ttest_ind関数を用いると簡単に計算できます  welch def ttest_ind(a, b, axis=0, equal_var=True, nan_policy='propagate')"
      ],
      "execution_count": null,
      "outputs": []
    },
    {
      "cell_type": "code",
      "metadata": {
        "colab": {
          "base_uri": "https://localhost:8080/"
        },
        "id": "WBQr9uHnbYim",
        "outputId": "a9d7a7eb-2222-492d-dbd6-af212b532203"
      },
      "source": [
        "stats.ttest_ind(data2['2-years-old'],data2['3-years-old'],equal_var=False)"
      ],
      "execution_count": null,
      "outputs": [
        {
          "output_type": "execute_result",
          "data": {
            "text/plain": [
              "Ttest_indResult(statistic=-2.403807649264687, pvalue=0.01945646990570736)"
            ]
          },
          "metadata": {
            "tags": []
          },
          "execution_count": 102
        }
      ]
    },
    {
      "cell_type": "code",
      "metadata": {
        "id": "P0GCY1L2cCGv"
      },
      "source": [
        "# p値が0.05を下回ったので「2歳魚と3歳魚の体長は有意に異なる」と判断できました"
      ],
      "execution_count": null,
      "outputs": []
    },
    {
      "cell_type": "code",
      "metadata": {
        "id": "deTUDYBqcKjz"
      },
      "source": [
        ""
      ],
      "execution_count": null,
      "outputs": []
    },
    {
      "cell_type": "markdown",
      "metadata": {
        "id": "AvdViSF_cTaG"
      },
      "source": [
        "仮説検定における注意点\n",
        "基本的な仮説検定の考え方と計算の仕方について学習してきました。ここで、仮説検定に対して誤った考え方をしてしまうのを防ぐために、下記の3点について確認しておきましょう。\n",
        "\n",
        "*  ① p値が小さくても、「差が大きい」とは限らない\n",
        "p値を求める前にt値を計算しました。そのt値が大きくなればp値も小さくなり、「有意差あり」と主張しやすくなりましたね。ですがこのt値というのは分子の「標本平均—比較対象」の差の他にサンプルサイズも影響しています。ですので、p値だけをみて「差の大きさ」を判断することはできません。\n",
        "\n",
        "*  ② p値が0.05よりも大きくても「差がない」とは言えない\n",
        "p値というのは「帰無仮説の元で検定統計量がその値となる確率」でした。「帰無仮説が間違っている確率」はp値という指標でコントロールできますが、「帰無仮説が正しい確率」はコントロールできません。よって、p値により「差がない」ということを証明することはできません。\n",
        "\n",
        "*  ③「1-p値」は「対立仮説が正しい確率」ではない\n",
        "こちらも上記と同様です。\n",
        "\n"
      ]
    },
    {
      "cell_type": "code",
      "metadata": {
        "id": "E_YUamx_ca_U"
      },
      "source": [
        ""
      ],
      "execution_count": null,
      "outputs": []
    }
  ]
}